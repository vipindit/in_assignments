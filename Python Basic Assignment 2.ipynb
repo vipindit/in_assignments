{
 "cells": [
  {
   "cell_type": "markdown",
   "id": "811528de",
   "metadata": {},
   "source": [
    "# Q1.What are the two values of the Boolean data type? How do you write them?"
   ]
  },
  {
   "cell_type": "markdown",
   "id": "8a9cef7b",
   "metadata": {},
   "source": [
    "In Python boolean Data type is one of the built-in data types which represents one of the two values i.e. True or False. Generally, it is used to represent the truth values of the expressions. For example, 1==1 is True whereas 2<1 is False.\n",
    "\n",
    "\n",
    "\n",
    "\n",
    "\n"
   ]
  },
  {
   "cell_type": "markdown",
   "id": "9405d923",
   "metadata": {},
   "source": [
    "# Q 2. What are the three different types of Boolean operators?"
   ]
  },
  {
   "cell_type": "markdown",
   "id": "e53c8983",
   "metadata": {},
   "source": [
    "Three Boolean operators are given below.\n",
    "1. AND\n",
    "2. OR\n",
    "3. NOT"
   ]
  },
  {
   "cell_type": "markdown",
   "id": "682e5722",
   "metadata": {},
   "source": [
    "# Q 3. Make a list of each Boolean operator's truth tables (i.e. every possible combination of Boolean values for the operator and what it evaluate )."
   ]
  },
  {
   "cell_type": "markdown",
   "id": "fbb16643",
   "metadata": {},
   "source": [
    "1..  AND\n",
    "\n",
    " True =1 and False =0\n",
    " \n",
    "        A    B   A AND B\n",
    "        \n",
    "        0    0     0\n",
    "        0    1     0\n",
    "        1    0     0\n",
    "        1    1     1\n",
    "        \n",
    "        \n",
    "       \n",
    "2..  OR\n",
    "\n",
    "        A    B   A OR B\n",
    "        \n",
    "        0    0     0\n",
    "        0    1     1\n",
    "        1    0     1\n",
    "        1    1     1\n",
    "        \n",
    "        \n",
    "        \n",
    "3.. NOT\n",
    "\n",
    "    A       A NOT B\n",
    "\n",
    "    0         1\n",
    "    1         0        \n",
    "        \n",
    "\n"
   ]
  },
  {
   "cell_type": "markdown",
   "id": "68bb2e3e",
   "metadata": {},
   "source": [
    "# Q 4. What are the values of the following expressions?\n",
    "(5 > 4) and (3 == 5)\n",
    "\n",
    "not (5 > 4)\n",
    "\n",
    "(5 > 4) or (3 == 5)\n",
    "\n",
    "not ((5 > 4) or (3 == 5))\n",
    "\n",
    "(True and True) and (True == False)\n",
    "\n",
    "(not False) or (not True)\n"
   ]
  },
  {
   "cell_type": "markdown",
   "id": "6ccc1d89",
   "metadata": {},
   "source": [
    "ANS ----\n",
    "\n",
    "\n",
    "(5 > 4) and (3 == 5)  ---- False\n",
    "\n",
    "not (5 > 4)           ---- False\n",
    "\n",
    "(5 > 4) or (3 == 5)   ---- True\n",
    "\n",
    "not ((5 > 4) or (3 == 5)) --- False\n",
    "\n",
    "(True and True) and (True == False) -- False\n",
    "\n",
    "\n",
    "(not False) or (not True)  -- True"
   ]
  },
  {
   "cell_type": "markdown",
   "id": "53dfc29e",
   "metadata": {},
   "source": [
    "# Q 5. What are the six comparison operators?"
   ]
  },
  {
   "cell_type": "markdown",
   "id": "a8af2526",
   "metadata": {},
   "source": [
    "Comparisor operators are as follows:\n",
    "\n",
    "    1. <  greater than\n",
    "    \n",
    "    2. >  less than\n",
    "    \n",
    "    3. <= less than equal to\n",
    "    \n",
    "    4. >= greater than equal to\n",
    "    \n",
    "    5. == equal to\n",
    "    \n",
    "    6. != not equal to"
   ]
  },
  {
   "cell_type": "markdown",
   "id": "b57f3bd5",
   "metadata": {},
   "source": [
    "# Q 6. How do you tell the difference between the equal to and assignment operators?Describe a condition and when you would use one."
   ]
  },
  {
   "cell_type": "markdown",
   "id": "6a2a29e3",
   "metadata": {},
   "source": [
    "== is the equal to operator that compares two values and evaluates to a Boolean\n",
    "\n",
    "\n",
    "\n",
    "while = is the assignment operator that stores a value in a variable"
   ]
  },
  {
   "cell_type": "markdown",
   "id": "727a4bd7",
   "metadata": {},
   "source": [
    "# Q 7. Identify the three blocks in this code:\n",
    "spam = 0\n",
    "if spam == 10:\n",
    "  print('eggs')\n",
    "if spam > 5:\n",
    "print('bacon')\n",
    "else:\n",
    "print('ham')\n",
    "print('spam')\n",
    "print('spam')\n"
   ]
  },
  {
   "cell_type": "code",
   "execution_count": 4,
   "id": "bbabd5ab",
   "metadata": {},
   "outputs": [
    {
     "name": "stdout",
     "output_type": "stream",
     "text": [
      "spam\n"
     ]
    }
   ],
   "source": [
    "# Q 7. Identify the three blocks in this code:\n",
    "spam = 0\n",
    "if spam == 10:\n",
    "    print('eggs')\n",
    "    if spam > 5:\n",
    "        print('bacon')\n",
    "    else:\n",
    "        print('ham')\n",
    "    print('spam')\n",
    "print('spam')\n",
    "\n",
    "\n",
    "# A block is a piece of Python program text that is executed as a unit\n",
    "# so here everything inside if statement is a block."
   ]
  },
  {
   "cell_type": "markdown",
   "id": "10821c87",
   "metadata": {},
   "source": [
    "# Q 8. Write code that prints Hello if 1 is stored in spam, prints Howdy if 2 is stored in spam, and prints Greetings! if anything else is stored in spam."
   ]
  },
  {
   "cell_type": "markdown",
   "id": "3ac74e8e",
   "metadata": {},
   "source": [
    "spam = int(input())\n",
    "\n",
    "if spam == 1:\n",
    "    print(\"Hello\")\n",
    "    \n",
    "elif spam == 2:\n",
    "    print(\"Howdy\")\n",
    "    \n",
    "else:\n",
    "    print(\"Greetings!\")\n",
    "    \n",
    "    "
   ]
  },
  {
   "cell_type": "markdown",
   "id": "386f9d58",
   "metadata": {},
   "source": [
    "# Q 9.If your programme is stuck in an endless loop, what keys you’ll press?"
   ]
  },
  {
   "cell_type": "markdown",
   "id": "2a07c861",
   "metadata": {},
   "source": [
    "In case of jupyter we can stop kernal.\n",
    "\n",
    "In case of command line prompt press Ctrl+C"
   ]
  },
  {
   "cell_type": "markdown",
   "id": "bf654a6d",
   "metadata": {},
   "source": [
    "# Q 10. How can you tell the difference between break and continue?"
   ]
  },
  {
   "cell_type": "markdown",
   "id": "e23624cc",
   "metadata": {},
   "source": [
    "The main difference between both the statements is that when break keyword comes, it terminates the execution of the current loop and passes the control over the next loop or main body, \n",
    "\n",
    "whereas when continue keyword is encountered, it skips the current iteration and executes the very next iteration in the loop. \n"
   ]
  },
  {
   "cell_type": "code",
   "execution_count": 8,
   "id": "2e23594b",
   "metadata": {},
   "outputs": [
    {
     "name": "stdout",
     "output_type": "stream",
     "text": [
      "0\n",
      "1\n",
      "2\n",
      "3\n",
      "4\n",
      "5\n"
     ]
    }
   ],
   "source": [
    "# Example of break\n",
    "\n",
    "for i in range(10):\n",
    "    if i == 6:\n",
    "        break\n",
    "    print(i)    "
   ]
  },
  {
   "cell_type": "code",
   "execution_count": 15,
   "id": "4486472c",
   "metadata": {},
   "outputs": [
    {
     "name": "stdout",
     "output_type": "stream",
     "text": [
      "6\n"
     ]
    }
   ],
   "source": [
    "\n",
    "\n",
    "for i in range(10):\n",
    "    if i == 6:\n",
    "        break\n",
    "print(i)  "
   ]
  },
  {
   "cell_type": "code",
   "execution_count": 18,
   "id": "9b3b0b8c",
   "metadata": {},
   "outputs": [
    {
     "name": "stdout",
     "output_type": "stream",
     "text": [
      "enter a no :20\n",
      "not prime\n"
     ]
    }
   ],
   "source": [
    "\n",
    "n =int(input(\"enter a no :\"))\n",
    "for i in range (2,n):\n",
    "    if n%2==0:\n",
    "        print(\"not prime\")\n",
    "        break\n",
    "else :\n",
    "    print(\"this is prime\")"
   ]
  },
  {
   "cell_type": "code",
   "execution_count": 19,
   "id": "345b8639",
   "metadata": {},
   "outputs": [
    {
     "name": "stdout",
     "output_type": "stream",
     "text": [
      "10\n",
      "20\n",
      "40\n",
      "50\n"
     ]
    }
   ],
   "source": [
    "# continue statement \n",
    "l = [10,20,30,40,50]\n",
    "for i in l:\n",
    "    if i==30:\n",
    "        continue\n",
    "    print(i)"
   ]
  },
  {
   "cell_type": "markdown",
   "id": "83e291e3",
   "metadata": {},
   "source": [
    "# "
   ]
  },
  {
   "cell_type": "markdown",
   "id": "dcb54119",
   "metadata": {},
   "source": [
    "# Q 11. In a for loop, what is the difference between range(10), range(0, 10), and range(0, 10, 1)?"
   ]
  },
  {
   "cell_type": "markdown",
   "id": "5bb8833d",
   "metadata": {},
   "source": [
    "both range(10) and range(0,10) are same because the both give numbers from 0 to 9.\n",
    "also in case of range(0,10,1) give same output starting from 0 with increment of 1 \n",
    "upto 9"
   ]
  },
  {
   "cell_type": "markdown",
   "id": "6d89222d",
   "metadata": {},
   "source": [
    "# Q 12. Write a short program that prints the numbers 1 to 10 using a for loop. Then write an equivalent program that prints the numbers 1 to 10 using a while loop."
   ]
  },
  {
   "cell_type": "code",
   "execution_count": 25,
   "id": "ae8089fe",
   "metadata": {},
   "outputs": [
    {
     "name": "stdout",
     "output_type": "stream",
     "text": [
      "enter a no :10\n",
      "1\n",
      "2\n",
      "3\n",
      "4\n",
      "5\n",
      "6\n",
      "7\n",
      "8\n",
      "9\n",
      "10\n"
     ]
    }
   ],
   "source": [
    "n = int(input(\"enter a no :\"))\n",
    "for i in range(n):\n",
    "    print(i+1)"
   ]
  },
  {
   "cell_type": "code",
   "execution_count": 26,
   "id": "f7478229",
   "metadata": {},
   "outputs": [
    {
     "name": "stdout",
     "output_type": "stream",
     "text": [
      "1\n",
      "2\n",
      "3\n",
      "4\n",
      "5\n",
      "6\n",
      "7\n",
      "8\n",
      "9\n",
      "10\n"
     ]
    }
   ],
   "source": [
    "\n",
    "for i in range(1,11):\n",
    "    print(i)"
   ]
  },
  {
   "cell_type": "code",
   "execution_count": 27,
   "id": "035486bb",
   "metadata": {},
   "outputs": [
    {
     "name": "stdout",
     "output_type": "stream",
     "text": [
      "1\n",
      "2\n",
      "3\n",
      "4\n",
      "5\n",
      "6\n",
      "7\n",
      "8\n",
      "9\n",
      "10\n"
     ]
    }
   ],
   "source": [
    "i =1\n",
    "while i>0 and i<=10:\n",
    "    print(i)\n",
    "    i +=1"
   ]
  },
  {
   "cell_type": "markdown",
   "id": "923e2f76",
   "metadata": {},
   "source": [
    "# Q 13. If you had a function named bacon() inside a module named spam, how would you call it after importing spam?"
   ]
  },
  {
   "cell_type": "code",
   "execution_count": null,
   "id": "fb8576c1",
   "metadata": {},
   "outputs": [],
   "source": [
    "#Way 1\n",
    "from spam import bacon\n",
    "\n",
    "#way 2\n",
    "\n",
    "spam.bacon()"
   ]
  },
  {
   "cell_type": "markdown",
   "id": "58306c40",
   "metadata": {},
   "source": []
  },
  {
   "cell_type": "code",
   "execution_count": null,
   "id": "d20d6f0d",
   "metadata": {},
   "outputs": [],
   "source": []
  },
  {
   "cell_type": "code",
   "execution_count": null,
   "id": "610f97f8",
   "metadata": {},
   "outputs": [],
   "source": []
  },
  {
   "cell_type": "code",
   "execution_count": null,
   "id": "b9cf53b9",
   "metadata": {},
   "outputs": [],
   "source": []
  },
  {
   "cell_type": "code",
   "execution_count": null,
   "id": "9effe315",
   "metadata": {},
   "outputs": [],
   "source": []
  },
  {
   "cell_type": "code",
   "execution_count": null,
   "id": "983a81c0",
   "metadata": {},
   "outputs": [],
   "source": []
  },
  {
   "cell_type": "code",
   "execution_count": null,
   "id": "7a363ad6",
   "metadata": {},
   "outputs": [],
   "source": []
  },
  {
   "cell_type": "code",
   "execution_count": null,
   "id": "41a63163",
   "metadata": {},
   "outputs": [],
   "source": []
  },
  {
   "cell_type": "code",
   "execution_count": null,
   "id": "34db48f6",
   "metadata": {},
   "outputs": [],
   "source": []
  },
  {
   "cell_type": "code",
   "execution_count": null,
   "id": "6c55a45a",
   "metadata": {},
   "outputs": [],
   "source": []
  },
  {
   "cell_type": "code",
   "execution_count": null,
   "id": "f80abcba",
   "metadata": {},
   "outputs": [],
   "source": []
  },
  {
   "cell_type": "code",
   "execution_count": null,
   "id": "8f4c41b9",
   "metadata": {},
   "outputs": [],
   "source": []
  },
  {
   "cell_type": "code",
   "execution_count": null,
   "id": "bd4957a7",
   "metadata": {},
   "outputs": [],
   "source": []
  },
  {
   "cell_type": "code",
   "execution_count": null,
   "id": "f45f0c4f",
   "metadata": {},
   "outputs": [],
   "source": []
  },
  {
   "cell_type": "code",
   "execution_count": null,
   "id": "b5c1e379",
   "metadata": {},
   "outputs": [],
   "source": []
  },
  {
   "cell_type": "code",
   "execution_count": null,
   "id": "e0cb7320",
   "metadata": {},
   "outputs": [],
   "source": []
  },
  {
   "cell_type": "code",
   "execution_count": null,
   "id": "dc91a9cd",
   "metadata": {},
   "outputs": [],
   "source": []
  },
  {
   "cell_type": "code",
   "execution_count": null,
   "id": "b6a73b85",
   "metadata": {},
   "outputs": [],
   "source": []
  },
  {
   "cell_type": "code",
   "execution_count": null,
   "id": "4970eac9",
   "metadata": {},
   "outputs": [],
   "source": []
  },
  {
   "cell_type": "code",
   "execution_count": null,
   "id": "e691b211",
   "metadata": {},
   "outputs": [],
   "source": []
  },
  {
   "cell_type": "code",
   "execution_count": 14,
   "id": "4cb86c73",
   "metadata": {},
   "outputs": [
    {
     "name": "stdout",
     "output_type": "stream",
     "text": [
      "enter a no :20\n",
      "not prime\n"
     ]
    }
   ],
   "source": [
    "\n",
    "n =int(input(\"enter a no :\"))\n",
    "for i in range (2,n):\n",
    "    if n%2==0:\n",
    "        print(\"not prime\")\n",
    "        break\n",
    "else :\n",
    "    print(\"this is prime\")\n"
   ]
  },
  {
   "cell_type": "code",
   "execution_count": null,
   "id": "2f134615",
   "metadata": {},
   "outputs": [],
   "source": [
    "\n"
   ]
  },
  {
   "cell_type": "code",
   "execution_count": null,
   "id": "3b6811bf",
   "metadata": {},
   "outputs": [],
   "source": []
  }
 ],
 "metadata": {
  "kernelspec": {
   "display_name": "Python 3 (ipykernel)",
   "language": "python",
   "name": "python3"
  },
  "language_info": {
   "codemirror_mode": {
    "name": "ipython",
    "version": 3
   },
   "file_extension": ".py",
   "mimetype": "text/x-python",
   "name": "python",
   "nbconvert_exporter": "python",
   "pygments_lexer": "ipython3",
   "version": "3.9.7"
  }
 },
 "nbformat": 4,
 "nbformat_minor": 5
}
