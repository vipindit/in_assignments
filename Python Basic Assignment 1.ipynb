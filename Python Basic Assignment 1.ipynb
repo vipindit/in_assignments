{
 "cells": [
  {
   "cell_type": "markdown",
   "id": "bbc3cd76",
   "metadata": {},
   "source": [
    "# Q 1. In the below elements which of them are values or an expression? eg:- values can be integer or string and expressions will be mathematical operators.\n",
    "* \n",
    "'hello'\n",
    "-87.8\n",
    "- \n",
    "/ \n",
    "+\t\n",
    "6 \n"
   ]
  },
  {
   "cell_type": "markdown",
   "id": "a65f8d27",
   "metadata": {},
   "source": [
    "Ans -- \n",
    "\n",
    "String-- 'hello'\n",
    "\n",
    "Ineger -- 6,-87.8\n",
    "\n",
    "expressions - +,-,*,/\n"
   ]
  },
  {
   "cell_type": "markdown",
   "id": "ca859e11",
   "metadata": {},
   "source": [
    "# Q 2. What is the difference between string and variable?"
   ]
  },
  {
   "cell_type": "markdown",
   "id": "7d33808c",
   "metadata": {},
   "source": [
    "Ans ---\n",
    "\n",
    "String  ------- Strings is a data type for a sequence of characters (e.g. ‘’zaldnQfYJSMfwp”). In addition to letters, they can also include numbers, spaces, punctuation, and even line breaks (using ‘\\n’ for new line). Strings can not be used for calculation (even if your string is just a number like ‘5’), you would have to convert it to a number data type first to perform math operations on it.\n",
    "\n",
    "String is immutable data type. Strings in python are surrounded by either single quotation marks, or double quotation marks.\n",
    "\n",
    "\n"
   ]
  },
  {
   "cell_type": "markdown",
   "id": "70a01ce6",
   "metadata": {},
   "source": [
    "Variable -- A variable is something that holds a value that may change. Variables are reference or containers for storing data values.\n",
    "\n"
   ]
  },
  {
   "cell_type": "markdown",
   "id": "b91cd726",
   "metadata": {},
   "source": [
    "# Q 3. Describe three different data types."
   ]
  },
  {
   "cell_type": "markdown",
   "id": "6a86571b",
   "metadata": {},
   "source": [
    "Tuple - A tuple is a sequence of Python objects separated by commas. Tuple is an ordered collection of Python objects.Tuples are immutable, which means tuples once created cannot be modified. Tuples are defined using parentheses ().As Tuples are immutable in Python, if we try to update the tuple, then it will generate an error.\n",
    "\n",
    "Example:\n",
    "\n",
    "Tuple = (50,15,25.6,\"Python\")\n"
   ]
  },
  {
   "cell_type": "markdown",
   "id": "f47bb7f0",
   "metadata": {},
   "source": [
    "Set - A set is an unordered collection of items.Set is a Mutable data type and also it is iterable.Set does not contain any duplicate elements. Set is defined by values separated by a comma inside braces { }.\n",
    "\n",
    "As the set is an unordered collection, indexing has no meaning. Hence the slicing operator [] does not work.\n",
    "\n",
    "Example:\n",
    "\n",
    "A = {'a', 'c', 'd'}"
   ]
  },
  {
   "cell_type": "markdown",
   "id": "0523bfac",
   "metadata": {},
   "source": [
    "String - A string is an ordered sequence of characters.Strings are immutable which means once we declare a string we can’t update the already declared string. We can use single quotes or double quotes to represent strings. Multi-line strings can be represented using triple quotes.\n",
    "\n",
    "Example:\n",
    "Multi = \"Welcome\"\n"
   ]
  },
  {
   "cell_type": "markdown",
   "id": "cfe83ef0",
   "metadata": {},
   "source": [
    "Dictionary-  Dictionary in Python is an unordered collection of data values, used to store data values like a map.Dictionary holds key:value pair. Key-value is provided in the dictionary to make it more optimized. Each key-value pair in a Dictionary is separated by a colon :, whereas each key is separated by a ‘comma’.\n",
    "\n",
    "Example:\n",
    "\n",
    "Dict = {'Name': 'Geeks', 1: [1, 2, 3, 4]} "
   ]
  },
  {
   "cell_type": "markdown",
   "id": "f4d831a4",
   "metadata": {},
   "source": [
    "List - A list is mutable and ordered collection of Data. It is represented by [] brackets. We can perform the slicing operation on the elements of List.\n",
    "\n",
    "Example :\n",
    "L=[1,\"ram,2,3,4,4]"
   ]
  },
  {
   "cell_type": "markdown",
   "id": "5c7724f5",
   "metadata": {},
   "source": [
    "# "
   ]
  },
  {
   "cell_type": "markdown",
   "id": "e9275fc5",
   "metadata": {},
   "source": [
    "# Q 4. What is an expression made up of? What do all expressions do?\n"
   ]
  },
  {
   "cell_type": "markdown",
   "id": "7228d998",
   "metadata": {},
   "source": [
    "Expression: An expression is a combination of operators, constants and variables. An expression may consist of one or more operands, and zero or more operators to produce a value.\n",
    "\n",
    "Example :\n",
    "c=a+b"
   ]
  },
  {
   "cell_type": "markdown",
   "id": "2329ec15",
   "metadata": {},
   "source": [
    "An expression is a combination of operators and operands that is interpreted to produce some other value. In any programming language, an expression is evaluated as per the precedence of its operators. So that if there is more than one operator in an expression, their precedence decides which operation will be performed first."
   ]
  },
  {
   "cell_type": "markdown",
   "id": "9945bc40",
   "metadata": {},
   "source": [
    "# Q 5. This assignment statements, like spam = 10. What is the difference between an expression and a statement?\n"
   ]
  },
  {
   "cell_type": "markdown",
   "id": "e41af507",
   "metadata": {},
   "source": [
    "A statement does something. Statements represent an action or command e.g print statements, assignment statements. Expression is a combination of variables, operations and values that yields a result value. An expression is something that can be reduced to a value for example here spam=10 so this eprtession and it limited to just a value of thr spam variable."
   ]
  },
  {
   "cell_type": "markdown",
   "id": "4be1cf4d",
   "metadata": {},
   "source": [
    "# Q 6. After running the following code, what does the variable bacon contain?\n",
    "bacon = 22\n",
    "\n",
    "bacon + 1\n"
   ]
  },
  {
   "cell_type": "markdown",
   "id": "e0632576",
   "metadata": {},
   "source": [
    "bacon = 22\n",
    "bacon + 1"
   ]
  },
  {
   "cell_type": "markdown",
   "id": "3757b541",
   "metadata": {},
   "source": [
    "# "
   ]
  },
  {
   "cell_type": "markdown",
   "id": "0fc92b18",
   "metadata": {},
   "source": [
    "bacon"
   ]
  },
  {
   "cell_type": "markdown",
   "id": "1c5cd1af",
   "metadata": {},
   "source": [
    "Ans - the value of bacon will be 22,however it gives 23 as execution code."
   ]
  },
  {
   "cell_type": "markdown",
   "id": "b933f807",
   "metadata": {},
   "source": [
    "# Q  7. What should the values of the following two terms be?\n",
    "'spam' + 'spamspam'\n",
    "\n",
    "'spam' * 3\n"
   ]
  },
  {
   "cell_type": "code",
   "execution_count": 20,
   "id": "a720bfc6",
   "metadata": {},
   "outputs": [
    {
     "data": {
      "text/plain": [
       "'spamspamspam'"
      ]
     },
     "execution_count": 20,
     "metadata": {},
     "output_type": "execute_result"
    }
   ],
   "source": [
    "'spam' + 'spamspam'"
   ]
  },
  {
   "cell_type": "code",
   "execution_count": 21,
   "id": "fa2a2064",
   "metadata": {},
   "outputs": [
    {
     "data": {
      "text/plain": [
       "'spamspamspam'"
      ]
     },
     "execution_count": 21,
     "metadata": {},
     "output_type": "execute_result"
    }
   ],
   "source": [
    "'spam' * 3"
   ]
  },
  {
   "cell_type": "raw",
   "id": "a4ac7a5a",
   "metadata": {},
   "source": [
    "Output of the both the expession will be same."
   ]
  },
  {
   "cell_type": "markdown",
   "id": "358a3719",
   "metadata": {},
   "source": [
    "# Q  8. Why is eggs a valid variable name while 100 is invalid?"
   ]
  },
  {
   "cell_type": "markdown",
   "id": "9cf6aef3",
   "metadata": {},
   "source": [
    "because we can't start giving variable an integer name. if we, we should begin with, a string-like alphabet name then integer. e100"
   ]
  },
  {
   "cell_type": "markdown",
   "id": "61226165",
   "metadata": {},
   "source": [
    "# Q 9. What three functions can be used to get the integer, floating-point number, or string version of a value?"
   ]
  },
  {
   "cell_type": "markdown",
   "id": "211e5945",
   "metadata": {},
   "source": [
    "below afre the functions that can be used .\n",
    "str(), int(), float()"
   ]
  },
  {
   "cell_type": "markdown",
   "id": "a0c2c25e",
   "metadata": {},
   "source": [
    "\n",
    "# Q 10. Why does this expression cause an error? How can you fix it?\n",
    "'I have eaten ' + 99 + ' burritos.'\n"
   ]
  },
  {
   "cell_type": "markdown",
   "id": "5dd341d6",
   "metadata": {},
   "source": [
    "because 99 is an integer it cannot be concatenated with strings, if we have to concatenate it we need to do typecasting.\n",
    "and we have to make this as a string "
   ]
  },
  {
   "cell_type": "code",
   "execution_count": null,
   "id": "d781b24b",
   "metadata": {},
   "outputs": [],
   "source": []
  },
  {
   "cell_type": "code",
   "execution_count": null,
   "id": "32078320",
   "metadata": {},
   "outputs": [],
   "source": []
  }
 ],
 "metadata": {
  "kernelspec": {
   "display_name": "Python 3 (ipykernel)",
   "language": "python",
   "name": "python3"
  },
  "language_info": {
   "codemirror_mode": {
    "name": "ipython",
    "version": 3
   },
   "file_extension": ".py",
   "mimetype": "text/x-python",
   "name": "python",
   "nbconvert_exporter": "python",
   "pygments_lexer": "ipython3",
   "version": "3.9.7"
  }
 },
 "nbformat": 4,
 "nbformat_minor": 5
}
